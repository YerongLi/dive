{
 "cells": [
  {
   "cell_type": "code",
   "execution_count": 2,
   "id": "80c96ace",
   "metadata": {},
   "outputs": [],
   "source": [
    "import torch\n",
    "from torch import nn\n",
    "from d2l import torch as d2l\n",
    "\n",
    "def dropout_layer(X, dropout):\n",
    "    assert 0 <= dropout <= 1\n",
    "    if dropout == 1:\n",
    "        return torch.zeros_like(X)\n",
    "    if dropout == 0:\n",
    "        return X\n",
    "    mask = (torch.Tensor(X.shape).uniform_(0, 1) > dropout).float()\n",
    "    return mask * X / (1.0 - dropout)"
   ]
  },
  {
   "cell_type": "code",
   "execution_count": 3,
   "id": "958646d6",
   "metadata": {},
   "outputs": [
    {
     "name": "stdout",
     "output_type": "stream",
     "text": [
      "tensor([[ 0.,  1.,  2.,  3.,  4.,  5.,  6.,  7.],\n",
      "        [ 8.,  9., 10., 11., 12., 13., 14., 15.]])\n",
      "tensor([[ 0.,  1.,  2.,  3.,  4.,  5.,  6.,  7.],\n",
      "        [ 8.,  9., 10., 11., 12., 13., 14., 15.]])\n",
      "tensor([[ 0.,  2.,  0.,  0.,  0., 10., 12., 14.],\n",
      "        [ 0.,  0.,  0., 22., 24., 26., 28.,  0.]])\n",
      "tensor([[0., 0., 0., 0., 0., 0., 0., 0.],\n",
      "        [0., 0., 0., 0., 0., 0., 0., 0.]])\n"
     ]
    }
   ],
   "source": [
    "X = torch.arange(16, dtype=torch.float32).reshape((2, 8))\n",
    "print(X)\n",
    "print(dropout_layer(X, 0.))\n",
    "print(dropout_layer(X, 0.5))\n",
    "print(dropout_layer(X, 1.))"
   ]
  },
  {
   "cell_type": "code",
   "execution_count": 5,
   "id": "7a2f2516",
   "metadata": {},
   "outputs": [],
   "source": [
    "num_inputs, num_outputs, num_hiddens1, num_hiddens2 = 784, 10, 256, 256\n",
    "\n",
    "dropout1, dropout2 = 0.2, 0.5\n",
    "\n",
    "class Net(nn.Module):\n",
    "    def __init__(self, num_inputs, num_outputs, num_hiddens1, num_hiddens2,\n",
    "                 is_training=True):\n",
    "        super(Net, self).__init__()\n",
    "        self.num_inputs = num_inputs\n",
    "        self.training = is_training\n",
    "        self.lin1 = nn.Linear(num_inputs, num_hiddens1)\n",
    "        self.lin2 = nn.Linear(num_hiddens1, num_hiddens2)\n",
    "        self.lin3 = nn.Linear(num_hiddens2, num_outputs)\n",
    "        self.relu = nn.ReLU()\n",
    "\n",
    "    def forward(self, X):\n",
    "        H1 = self.relu(self.lin1(X.reshape((-1, self.num_inputs))))\n",
    "        if self.training == True:\n",
    "            H1 = dropout_layer(H1, dropout1)\n",
    "        H2 = self.relu(self.lin2(H1))\n",
    "        if self.training == True:\n",
    "            H2 = dropout_layer(H2, dropout2)\n",
    "        out = self.lin3(H2)\n",
    "        return out\n",
    "\n",
    "net = Net(num_inputs, num_outputs, num_hiddens1, num_hiddens2)"
   ]
  },
  {
   "cell_type": "code",
   "execution_count": null,
   "id": "52e71785",
   "metadata": {},
   "outputs": [],
   "source": [
    "num_epochs, lr, batch_size = 10, 0.5, 256\n",
    "loss = nn.CrossEntropyLoss()\n",
    "train_iter, test_iter = d2l.load_data_fashion_mnist(batch_size)\n",
    "trainer = torch.optim.SGD(net.parameters(), lr=lr)\n",
    "d2l.train_ch3(net, train_iter, test_iter, loss, num_epochs, trainer)"
   ]
  },
  {
   "cell_type": "markdown",
   "id": "d013751c",
   "metadata": {},
   "source": [
    "## numpy version"
   ]
  },
  {
   "cell_type": "code",
   "execution_count": 34,
   "id": "5a441bb4",
   "metadata": {},
   "outputs": [],
   "source": [
    "import numpy as np\n",
    "def dropout_layer_numpy(X, dropout):\n",
    "    assert 0 <= dropout <= 1\n",
    "    mask = (np.random.uniform(size = X.shape, low= 0, high =1) > dropout).astype(float)\n",
    "    return mask * X / (1.0 - dropout)"
   ]
  },
  {
   "cell_type": "code",
   "execution_count": 35,
   "id": "88706d5a",
   "metadata": {},
   "outputs": [
    {
     "data": {
      "text/plain": [
       "array([[ 0.,  6.,  8.],\n",
       "       [-0.,  0.,  6.]])"
      ]
     },
     "execution_count": 35,
     "metadata": {},
     "output_type": "execute_result"
    }
   ],
   "source": [
    "X = np.array([[2,3,4],[-2,1,3]])\n",
    "dropout_layer_numpy(X, 0.5)"
   ]
  },
  {
   "cell_type": "markdown",
   "id": "97facb2b",
   "metadata": {},
   "source": [
    "## softmax"
   ]
  },
  {
   "cell_type": "code",
   "execution_count": 48,
   "id": "fdf6a72d",
   "metadata": {},
   "outputs": [
    {
     "name": "stdout",
     "output_type": "stream",
     "text": [
      "tensor([[4.],\n",
      "        [3.]]) maxes\n"
     ]
    },
    {
     "data": {
      "text/plain": [
       "tensor([[0.0900, 0.2447, 0.6652],\n",
       "        [0.0059, 0.1185, 0.8756]])"
      ]
     },
     "execution_count": 48,
     "metadata": {},
     "output_type": "execute_result"
    }
   ],
   "source": [
    "import torch\n",
    "def softmax(x):\n",
    "    maxes = torch.max(x, 1, keepdim=True)[0]\n",
    "#     print(torch.max(x, 1, keepdim=True))\n",
    "    print(maxes, 'maxes')\n",
    "    x_exp = torch.exp(x-maxes)\n",
    "    x_exp_sum = torch.sum(x_exp, 1, keepdim=True)\n",
    "\n",
    "    return x_exp/x_exp_sum\n",
    "x = torch.Tensor([[2,3,4],[-2,1,3]])\n",
    "softmax(x)"
   ]
  },
  {
   "cell_type": "code",
   "execution_count": 46,
   "id": "d180417c",
   "metadata": {},
   "outputs": [
    {
     "name": "stdout",
     "output_type": "stream",
     "text": [
      "[4] maxes\n"
     ]
    },
    {
     "data": {
      "text/plain": [
       "array([[0.09003057, 0.24472847, 0.66524096],\n",
       "       [0.00589975, 0.11849965, 0.8756006 ]])"
      ]
     },
     "execution_count": 46,
     "metadata": {},
     "output_type": "execute_result"
    }
   ],
   "source": [
    "def softmax_numpy(x):\n",
    "    \n",
    "    maxes = np.max(x, 1, keepdims=True)\n",
    "#     print(maxes, 'maxes')    \n",
    "    x_exp = np.exp(x-maxes)\n",
    "    x_exp_sum = np.sum(x_exp, 1, keepdims=True)\n",
    "\n",
    "    return x_exp/x_exp_sum\n",
    "x = np.array([[2,3,4],[-2,1,3]])\n",
    "softmax_numpy(x)"
   ]
  },
  {
   "cell_type": "markdown",
   "id": "de989ed9",
   "metadata": {},
   "source": [
    "## sigmoid"
   ]
  },
  {
   "cell_type": "code",
   "execution_count": 52,
   "id": "16745e67",
   "metadata": {},
   "outputs": [
    {
     "name": "stdout",
     "output_type": "stream",
     "text": [
      "tensor([[0.8808, 0.9526, 0.9820],\n",
      "        [0.1192, 0.7311, 0.9526]])\n"
     ]
    }
   ],
   "source": [
    "def sigmoid(x):\n",
    "    return 1/(1 + torch.exp(-x))\n",
    "x = torch.Tensor([[2,3,4],[-2,1,3]])\n",
    "print(sigmoid(x))"
   ]
  },
  {
   "cell_type": "code",
   "execution_count": 51,
   "id": "a813fbcd",
   "metadata": {},
   "outputs": [
    {
     "data": {
      "text/plain": [
       "array([[0.88079708, 0.95257413, 0.98201379],\n",
       "       [0.11920292, 0.73105858, 0.95257413]])"
      ]
     },
     "execution_count": 51,
     "metadata": {},
     "output_type": "execute_result"
    }
   ],
   "source": [
    "def sigmoid_numpy(x):\n",
    "    return 1/(1 + np.exp(-x))\n",
    "x = np.array([[2,3,4],[-2,1,3]])\n",
    "sigmoid_numpy(x)"
   ]
  },
  {
   "cell_type": "markdown",
   "id": "fe2c464d",
   "metadata": {},
   "source": []
  }
 ],
 "metadata": {
  "kernelspec": {
   "display_name": "Python 3 (ipykernel)",
   "language": "python",
   "name": "python3"
  },
  "language_info": {
   "codemirror_mode": {
    "name": "ipython",
    "version": 3
   },
   "file_extension": ".py",
   "mimetype": "text/x-python",
   "name": "python",
   "nbconvert_exporter": "python",
   "pygments_lexer": "ipython3",
   "version": "3.7.11"
  }
 },
 "nbformat": 4,
 "nbformat_minor": 5
}
